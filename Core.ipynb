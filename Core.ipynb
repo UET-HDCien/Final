{
 "cells": [
  {
   "cell_type": "code",
   "execution_count": 63,
   "metadata": {},
   "outputs": [],
   "source": [
    "import numpy as np\n",
    "from os import listdir\n",
    "from os.path import isfile, join\n",
    "import _pickle as pickle\n",
    "import os\n",
    "mypath=\"log\"\n",
    "onlyfiles = [f for f in listdir(mypath) if isfile(join(mypath, f))]\n",
    "#print(onlyfiles)\n",
    "#d=np.array([0]*315)\n",
    "\n",
    "#print(d)\n",
    "for x in onlyfiles:\n",
    "    y=0;\n",
    "    name=\"data/\"+x[:64]\n",
    "    fw2=open(name,\"a\")\n",
    "    #filewrite_2=\"vector/\"+x[:64]\n",
    "    #print(filewrite)\n",
    "    x=mypath+\"/\"+x\n",
    "    #print(x)\n",
    "    fr=open(x,\"r\")\n",
    "    data=fr.readline()\n",
    "    while data:\n",
    "        y=len(data)-1\n",
    "        if (data[0]>'z' or data[0]<'a'): \n",
    "            data=fr.readline()\n",
    "            continue;\n",
    "        #if (data[0]>'z' or data[0]<'a'): continue; \n",
    "        for i in range(0,len(data)-1) :\n",
    "            if (data[i]=='(') : \n",
    "                y=i;\n",
    "                break;\n",
    "        syscall=data[:y]\n",
    "        fw2.write(syscall+\"\\n\")\n",
    "        #print(syscall)\n",
    "        data=fr.readline()\n",
    "    fw2.close()\n",
    "    fr.close()\n",
    "  \n",
    "        "
   ]
  },
  {
   "cell_type": "code",
   "execution_count": null,
   "metadata": {},
   "outputs": [],
   "source": [
    "dict={\n",
    "    \"read\":0\n",
    "}\n",
    "count=1\n",
    "fw=open(\"data.txt\",\"w\")\n",
    "path=\"data\"\n",
    "onlyfiles = [f for f in listdir(path) if isfile(join(path, f))]\n",
    "for x in onlyfiles:\n",
    "    d=np.array([0]*300)\n",
    "    x=path+'/'+x\n",
    "    fr=open(x,\"r\")\n",
    "    syscall=fr.readline()\n",
    "    while syscall:\n",
    "        if syscall not in dict:\n",
    "            dict[syscall]=count\n",
    "            count=count+1\n",
    "        x=dict[syscall]\n",
    "        #print(x)\n",
    "        d[x]=d[x]+1\n",
    "        syscall=fr.readline() \n",
    "    fw.write(\"1 \")\n",
    "    for x in range(0,270):\n",
    "        fw.write(\"%d \"%d[x])\n",
    "    fw.write(\"\\n\");\n",
    "fw.close()\n",
    "print(count)\n",
    "fw3=open(\"aaa.txt\",\"w\")\n",
    "for key,value in dict.items():\n",
    "    fw3.write(\"%s %s\\n\"%(key,value))\n",
    "fw3.close()"
   ]
  },
  {
   "cell_type": "code",
   "execution_count": 26,
   "metadata": {},
   "outputs": [],
   "source": [
    "fr=open(\"syscalltxt\",\"r\")\n",
    "fw=open(\"dictionary.txt\",\"w\")\n",
    "data2=fr.readline()\n",
    "count=-1\n",
    "while data2:\n",
    "    #print(filelist)\n",
    "    y=len(data2)-1\n",
    "    for i in range(13,len(data2)-1) :\n",
    "        if (data2[i]=='\\t')  : \n",
    "            y=i;\n",
    "            break;\n",
    "    syscall=data2[13:y]\n",
    "    fw.write('\"%s\":%d,\\n'%(syscall,count))\n",
    "    count=count+1\n",
    "    data2=fr.readline()\n",
    "fw.close()\n",
    "fr.close()\n",
    "    \n"
   ]
  },
  {
   "cell_type": "code",
   "execution_count": 56,
   "metadata": {},
   "outputs": [
    {
     "name": "stdout",
     "output_type": "stream",
     "text": [
      "a 1\n",
      "\n",
      "b 2\n",
      "\n",
      "c 3\n",
      "\n"
     ]
    }
   ],
   "source": [
    "dict2={\n",
    "    \"a\":1,\n",
    "    \"b\":2\n",
    "}\n",
    "str1=\"c\"\n",
    "\n",
    "if str1 not in dict2:\n",
    "    dict2[str1]=3\n",
    "for key,value in dict2.items():\n",
    "    print(\"%s %s\\n\"%(key,value))"
   ]
  }
 ],
 "metadata": {
  "kernelspec": {
   "display_name": "Python 3",
   "language": "python",
   "name": "python3"
  },
  "language_info": {
   "codemirror_mode": {
    "name": "ipython",
    "version": 3
   },
   "file_extension": ".py",
   "mimetype": "text/x-python",
   "name": "python",
   "nbconvert_exporter": "python",
   "pygments_lexer": "ipython3",
   "version": "3.6.6"
  }
 },
 "nbformat": 4,
 "nbformat_minor": 2
}
